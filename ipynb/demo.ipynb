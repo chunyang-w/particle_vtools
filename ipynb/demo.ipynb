{
 "cells": [
  {
   "cell_type": "code",
   "execution_count": null,
   "metadata": {},
   "outputs": [
    {
     "ename": "",
     "evalue": "",
     "output_type": "error",
     "traceback": [
      "\u001b[1;31mThe kernel failed to start as 'only' could not be imported from 'unknown location'.\n",
      "\u001b[1;31mClick <a href='https://aka.ms/kernelFailuresModuleImportErrFromFile'>here</a> for more info."
     ]
    }
   ],
   "source": [
    "\"\"\"\n",
    "Author Chunyang Wang\n",
    "Github: https://github.com/chunyang-w\n",
    "\n",
    "A Visulisation demo for Explorer3D class\n",
    "\"\"\"\n",
    "import glob\n",
    "import numpy as np\n",
    "from natsort import natsorted\n",
    "import pyvista as pv\n",
    "from particle_vtools.Explorer3D import Explorer3D\n",
    "from particle_vtools.PoreStructure import PoreStructure_CT\n",
    "from particle_vtools.FluidStructure import FluidIterator_CT\n",
    "from particle_vtools.Particle import ParticleIterator_DF\n",
    "\n",
    "pv.set_jupyter_backend('trame')"
   ]
  },
  {
   "cell_type": "code",
   "execution_count": null,
   "metadata": {},
   "outputs": [
    {
     "ename": "",
     "evalue": "",
     "output_type": "error",
     "traceback": [
      "\u001b[1;31mThe kernel failed to start as 'only' could not be imported from 'unknown location'.\n",
      "\u001b[1;31mClick <a href='https://aka.ms/kernelFailuresModuleImportErrFromFile'>here</a> for more info."
     ]
    }
   ],
   "source": [
    "# Scaling factor - larger factor means smaller image\n",
    "# a larger factore will accelerate the rendering\n",
    "\n",
    "down_sample_factor = 8\n",
    "clim = [0, 10]\n",
    "arrow_lim = [0.5, 5]\n",
    "\n",
    "# Change the paths to fit your data location\n",
    "pore_tif_path = \"../data/073_combined_results/073_segmentedTimeSteps_downsampledx2_tif/073_segmented_00000.tif\"  # noqa\n",
    "ct_files_path = \"../data/072_combined_results/registered_cleanedAvizo/*\"  # noqa\n",
    "particle_df_path = \"../data/072_combined_results/trajectories/velocity_points_newversion_bp1_tsr6tm1tml20_surface_masked.csv\"  # noqa\n",
    "\n",
    "if __name__ == \"__main__\":\n",
    "    # The slicer is used to crop the fluid surface - this is optional\n",
    "    fluid_slicer = (slice(None, -50), slice(50, -50), slice(50, -50))\n",
    "    # shift array used to shift the particle data\n",
    "    shift = np.array([0, 0, -450]).reshape(-1, 3)\n",
    "\n",
    "    rock_surface = PoreStructure_CT(\n",
    "        pore_tif_path,  # noqa\n",
    "        scale=2,        # scale the image by two - the input image is too large this is optional  # noqa\n",
    "        threshold=0,    # threshold used in marching cube algo to generate the surface  # noqa\n",
    "        down_sample_factor=down_sample_factor, # down sample the image by 8 - this is optional  # noqa\n",
    "        permute_axes=(2, 1, 0))  # permute the axes - this is optional  # noqa\n",
    "    # delete this line if you do not want to crop the rock surface\n",
    "    rock_surface.tif_data = rock_surface.tif_data[230:, :, :]\n",
    "\n",
    "    # Load the oil surface\n",
    "    ct_files = glob.glob(ct_files_path) # noqa\n",
    "    ct_files = natsorted(ct_files)\n",
    "    oil_iterator = FluidIterator_CT(\n",
    "        \"oil\", ct_files, threshold=0,\n",
    "        permute_axes=(2, 1, 0),\n",
    "        down_sample_factor=down_sample_factor,\n",
    "        slicer=fluid_slicer)\n",
    "    # Particle data\n",
    "    particle_df_path = particle_df_path # noqa\n",
    "    paricle_iterator = ParticleIterator_DF(\n",
    "        \"particle\",\n",
    "        particle_df_path,\n",
    "        shift_array=shift,\n",
    "        arrow_lim=arrow_lim,\n",
    "        )\n",
    "\n",
    "    # Init explorer\n",
    "    explorer = Explorer3D(\n",
    "        [oil_iterator],\n",
    "        [paricle_iterator],\n",
    "        rock_surface,\n",
    "        clim=clim,\n",
    "        )\n",
    "\n",
    "    # set time slider\n",
    "    explorer.set_scene3d(0)\n",
    "    explorer.set_time_slider()\n",
    "    explorer.explore()"
   ]
  },
  {
   "cell_type": "code",
   "execution_count": null,
   "metadata": {},
   "outputs": [],
   "source": []
  }
 ],
 "metadata": {
  "kernelspec": {
   "display_name": "particle-vtools",
   "language": "python",
   "name": "python3"
  },
  "language_info": {
   "name": "python",
   "version": "3.10.16"
  }
 },
 "nbformat": 4,
 "nbformat_minor": 2
}
